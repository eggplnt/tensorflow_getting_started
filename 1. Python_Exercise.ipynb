{
 "cells": [
  {
   "cell_type": "markdown",
   "metadata": {},
   "source": [
    "# pythonの練習\n",
    "\n",
    "pythonの練習をしてみます \n",
    "\n",
    "各セルを実行するには、セルを選択した状態で「Shift + Enter」を押します (画面上部の「Cell」プルダウンメニューからも実行できます)"
   ]
  },
  {
   "cell_type": "code",
   "execution_count": 39,
   "metadata": {
    "scrolled": false
   },
   "outputs": [
    {
     "name": "stdout",
     "output_type": "stream",
     "text": [
      "こんにちは\n"
     ]
    }
   ],
   "source": [
    "print(\"こんにちは\")"
   ]
  },
  {
   "cell_type": "markdown",
   "metadata": {},
   "source": [
    "### 変数の練習\n",
    "\n",
    "練習：　変数の値や演算を変化させて確認してみましょう。"
   ]
  },
  {
   "cell_type": "code",
   "execution_count": 2,
   "metadata": {},
   "outputs": [
    {
     "name": "stdout",
     "output_type": "stream",
     "text": [
      "a =  1\n",
      "b =  2\n",
      "a + b =  3\n",
      "c =  3\n",
      "おはようございます\n"
     ]
    }
   ],
   "source": [
    "# 変数 a に1を代入します\n",
    "a = 1\n",
    "# 変数 b に2を代入します\n",
    "b = 2\n",
    "# 変数 a の値を出力します\n",
    "print(\"a = \", a)\n",
    "print(\"b = \", b)\n",
    "# 変数 a と b を加算した値を出力します\n",
    "print(\"a + b = \", a+b)\n",
    "#　変数cに a+b　を代入します\n",
    "c = a + b\n",
    "#　変数 c の値を出力します\n",
    "print(\"c = \", c)\n",
    "# 文字列の演算\n",
    "d = \"おはよう\"\n",
    "e = \"ございます\"\n",
    "print(d+e)\n"
   ]
  },
  {
   "cell_type": "markdown",
   "metadata": {
    "collapsed": true
   },
   "source": [
    "### 条件分岐の練習\n",
    "\n",
    "練習1：　aとｂの値を変えて練習してみましょう。\n",
    "\n",
    "練習２：　等しくない（a != b） の場合の条件分岐で練習してみましょう。\n",
    "\n",
    "練習３：　左辺が大きい（a > b） の場合の条件分岐で練習してみましょう。"
   ]
  },
  {
   "cell_type": "code",
   "execution_count": 6,
   "metadata": {},
   "outputs": [
    {
     "name": "stdout",
     "output_type": "stream",
     "text": [
      "True\n"
     ]
    }
   ],
   "source": [
    "a = 1\n",
    "b = 2\n",
    "# 「==」　で両辺の値が等しいかを確認します\n",
    "if a == b:\n",
    "    # 等しければ  「True（真）」を出力します\n",
    "    print(True)\n",
    "else:\n",
    "    # 等しくなければ  「False（偽）」を出力します\n",
    "    print(False)\n",
    "# 上記を実行後、 「」に代入する値を1に変更して再度実行（Shift+Enter）し出力を確認してみます"
   ]
  },
  {
   "cell_type": "markdown",
   "metadata": {
    "collapsed": true
   },
   "source": [
    "### ループの練習\n",
    "\n",
    "練習１： 値の範囲を変えて練習してみましょう\n",
    "\n",
    "練習２：出力する値を加算結果や乗算結果など他のものに変えて確認してみましょう"
   ]
  },
  {
   "cell_type": "code",
   "execution_count": 46,
   "metadata": {},
   "outputs": [
    {
     "name": "stdout",
     "output_type": "stream",
     "text": [
      "0\n",
      "0\n",
      "\n",
      "1\n",
      "1\n",
      "\n",
      "2\n",
      "4\n",
      "\n",
      "3\n",
      "9\n",
      "\n",
      "4\n",
      "16\n",
      "\n",
      "5\n",
      "25\n",
      "\n",
      "6\n",
      "36\n",
      "\n",
      "7\n",
      "49\n",
      "\n",
      "8\n",
      "64\n",
      "\n",
      "9\n",
      "81\n",
      "\n"
     ]
    }
   ],
   "source": [
    "# 「i」はループのカウンターとして１０まで変化します\n",
    "for i in range(10):\n",
    "    # iの値を出力します\n",
    "    print(i)\n",
    "    # iを二乗した値を出力します\n",
    "    print(i**2)\n",
    "    # 一行空けます\n",
    "    print()"
   ]
  },
  {
   "cell_type": "markdown",
   "metadata": {
    "collapsed": true
   },
   "source": [
    "### 配列を使ったループの練習\n",
    "\n",
    "練習１：曜日を月に変えて１２ヶ月をループさせて出力してみましょう。\n",
    "\n",
    "練習２：出力結果を日や曜日以外にも追加して確認してみましょう"
   ]
  },
  {
   "cell_type": "code",
   "execution_count": 7,
   "metadata": {},
   "outputs": [
    {
     "name": "stdout",
     "output_type": "stream",
     "text": [
      "Sunday\n",
      "Monday\n",
      "Tuesday\n",
      "Wednesday\n",
      "Thursday\n",
      "Friday\n",
      "Saturday\n"
     ]
    }
   ],
   "source": [
    "# 配列を使って、複数の項目を[]で囲い「,」で区切って扱います\n",
    "week = ['Sunday', 'Monday', 'Tuesday', 'Wednesday', 'Thursday', 'Friday', 'Saturday']\n",
    "# 配列weekの各要素を順に変数「day」に代入していきます\n",
    "for day in week:\n",
    "    # dayの値を出力します\n",
    "    print(day)"
   ]
  },
  {
   "cell_type": "code",
   "execution_count": null,
   "metadata": {
    "collapsed": true
   },
   "outputs": [],
   "source": []
  }
 ],
 "metadata": {
  "kernelspec": {
   "display_name": "Python 3",
   "language": "python",
   "name": "python3"
  },
  "language_info": {
   "codemirror_mode": {
    "name": "ipython",
    "version": 3
   },
   "file_extension": ".py",
   "mimetype": "text/x-python",
   "name": "python",
   "nbconvert_exporter": "python",
   "pygments_lexer": "ipython3",
   "version": "3.6.2"
  }
 },
 "nbformat": 4,
 "nbformat_minor": 2
}
